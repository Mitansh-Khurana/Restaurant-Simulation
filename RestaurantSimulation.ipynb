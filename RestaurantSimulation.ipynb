{
  "nbformat": 4,
  "nbformat_minor": 0,
  "metadata": {
    "colab": {
      "provenance": []
    },
    "kernelspec": {
      "name": "python3",
      "display_name": "Python 3"
    },
    "language_info": {
      "name": "python"
    }
  },
  "cells": [
    {
      "cell_type": "code",
      "execution_count": 17,
      "metadata": {
        "colab": {
          "base_uri": "https://localhost:8080/"
        },
        "id": "AshWBCoQVAvv",
        "outputId": "89356e20-2ac6-4026-ae56-05ca567e94a5"
      },
      "outputs": [
        {
          "output_type": "stream",
          "name": "stdout",
          "text": [
            "Looking in indexes: https://pypi.org/simple, https://us-python.pkg.dev/colab-wheels/public/simple/\n",
            "Requirement already satisfied: simpy in /usr/local/lib/python3.7/dist-packages (4.0.1)\n"
          ]
        }
      ],
      "source": [
        "pip install simpy"
      ]
    },
    {
      "cell_type": "markdown",
      "source": [
        "# Simulating the Waiter Process\n"
      ],
      "metadata": {
        "id": "OVVqL1lR3DrM"
      }
    },
    {
      "cell_type": "code",
      "source": [
        "import simpy \n",
        "\n",
        "## Simulates the waiter\n",
        "## Waiter takes orders, gives order to cook and serves customer\n",
        "\n",
        "def waiter(env):\n",
        "    while True: # Simulate until the time limit\n",
        "        print(f\"Start taking orders from customers at {env.now}\")\n",
        "        take_order_duration = 5\n",
        "        yield env.timeout(take_order_duration) # models duration\n",
        "\n",
        "        print(f'Start giving the orders to the cooks at {env.now}')\n",
        "        give_order_duration = 2\n",
        "        yield env.timeout(give_order_duration)\n",
        "\n",
        "        print(f'Start serving customers food at {env.now}\\n')\n",
        "        serve_order_duration = 5\n",
        "        yield env.timeout(serve_order_duration)\n",
        "\n",
        "env = simpy.Environment() # the environment where the waiter lives\n",
        "env.process(waiter(env)) # pass the waiter to the environment\n",
        "env.run(until=30) # Run simulation until 30s"
      ],
      "metadata": {
        "colab": {
          "base_uri": "https://localhost:8080/"
        },
        "id": "puBObGB0VroR",
        "outputId": "7197720a-42e8-484d-e1fe-f907af016782"
      },
      "execution_count": 18,
      "outputs": [
        {
          "output_type": "stream",
          "name": "stdout",
          "text": [
            "Start taking orders from customers at 0\n",
            "Start giving the orders to the cooks at 5\n",
            "Start serving customers food at 7\n",
            "\n",
            "Start taking orders from customers at 12\n",
            "Start giving the orders to the cooks at 17\n",
            "Start serving customers food at 19\n",
            "\n",
            "Start taking orders from customers at 24\n",
            "Start giving the orders to the cooks at 29\n"
          ]
        }
      ]
    },
    {
      "cell_type": "markdown",
      "source": [
        "# Simulating the Customer Process"
      ],
      "metadata": {
        "id": "TAyg42nx3QsD"
      }
    },
    {
      "cell_type": "code",
      "source": [
        "import simpy \n",
        "from random import random, seed\n",
        "\n",
        "## Simulates the customer\n",
        "## Customer -- sits -> looks at menu -> orders -> waits for order -> eat -> pays -> leaves.\n",
        "\n",
        "def customer(env, name, restaurant, **duration):\n",
        "    while True:\n",
        "        yield env.timeout(random()*10) # There is a new customer between 0 and 10 minutes\n",
        "        print(f\"--> {name} enters the restaurant and waits for the waiter to come at {round(env.now, 2)}\")\n",
        "        with restaurant.request() as req:\n",
        "            yield req \n",
        "\n",
        "            print(f\"--> Seats are available. {name} gets seated at {round(env.now, 2)}\")\n",
        "            yield env.timeout(duration['get_sitted'])\n",
        "\n",
        "            print(f\"--> {name} starts looking at the menu at {round(env.now, 2)}\")\n",
        "            yield env.timeout(duration['choose_food'])\n",
        "\n",
        "            print(f'--> Waiters start getting the order from {name} at {round(env.now, 2)}')\n",
        "            yield env.timeout(duration['give_order'])\n",
        "\n",
        "            print(f'--> {name} starts waiting for food at {round(env.now, 2)}')\n",
        "            yield env.timeout(duration['wait_for_food'])\n",
        "\n",
        "            print(f'--> {name} starts eating at {round(env.now, 2)}')\n",
        "            yield env.timeout(duration['eat'])\n",
        "\n",
        "            print(f'--> {name} starts paying at {round(env.now, 2)}')\n",
        "            yield env.timeout(duration['pay'])\n",
        "\n",
        "            print(f'--> {name} leaves at {round(env.now, 2)}')\n",
        "\n",
        "\n",
        "seed(1)\n",
        "env = simpy.Environment()\n",
        "\n",
        "# Model restaurant that can only allow 2 customers at once\n",
        "restaurant = simpy.Resource(env, capacity=2)"
      ],
      "metadata": {
        "id": "vbV6I8htVvAz"
      },
      "execution_count": 19,
      "outputs": []
    },
    {
      "cell_type": "code",
      "source": [
        "## Specifying duration for each customer operation\n",
        "\n",
        "durations = {'get_sitted': 1, 'choose_food': 10, 'give_order': 5, 'wait_for_food': 20, 'eat': 45, 'pay': 10}\n",
        "\n",
        "for i in range(5):\n",
        "    env.process(customer(env, f'Customer {i}', restaurant, **durations))\n",
        "\n",
        "##Running customer operations till 95 time units\n",
        "env.run(until=95)"
      ],
      "metadata": {
        "colab": {
          "base_uri": "https://localhost:8080/"
        },
        "id": "HgXYsnr6WHIN",
        "outputId": "0f940542-2b0a-49e5-9eb4-94c98c9e6d6d"
      },
      "execution_count": 20,
      "outputs": [
        {
          "output_type": "stream",
          "name": "stdout",
          "text": [
            "--> Customer 0 enters the restaurant and for the waiter to come at 1.34\n",
            "--> Seats are available. Customer 0 gets seated at 1.34\n",
            "--> Customer 0 starts looking at the menu at 2.34\n",
            "--> Customer 3 enters the restaurant and for the waiter to come at 2.55\n",
            "--> Seats are available. Customer 3 gets seated at 2.55\n",
            "--> Customer 3 starts looking at the menu at 3.55\n",
            "--> Customer 4 enters the restaurant and for the waiter to come at 4.95\n",
            "--> Customer 2 enters the restaurant and for the waiter to come at 7.64\n",
            "--> Customer 1 enters the restaurant and for the waiter to come at 8.47\n",
            "--> Waiters start getting the order from Customer 0 at 12.34\n",
            "--> Waiters start getting the order from Customer 3 at 13.55\n",
            "--> Customer 0 starts waiting for food at 17.34\n",
            "--> Customer 3 starts waiting for food at 18.55\n",
            "--> Customer 0 starts eating at 37.34\n",
            "--> Customer 3 starts eating at 38.55\n",
            "--> Customer 0 starts paying at 82.34\n",
            "--> Customer 3 starts paying at 83.55\n",
            "--> Customer 0 leaves at 92.34\n",
            "--> Seats are available. Customer 4 gets seated at 92.34\n",
            "--> Customer 4 starts looking at the menu at 93.34\n",
            "--> Customer 3 leaves at 93.55\n",
            "--> Seats are available. Customer 2 gets seated at 93.55\n",
            "--> Customer 2 starts looking at the menu at 94.55\n"
          ]
        }
      ]
    },
    {
      "cell_type": "markdown",
      "source": [
        "# Simulating Food Quantity with Customers"
      ],
      "metadata": {
        "id": "TPT16xBl3lPD"
      }
    },
    {
      "cell_type": "code",
      "source": [
        "from collections import namedtuple\n",
        "\n",
        "## Quantity of food items\n",
        "NUM_ITEMS = 10 # Number of items per food option\n",
        "\n",
        "## Type of food items\n",
        "staff = simpy.Resource(env, capacity=1)\n",
        "foods = ['Pizza', 'Burger', 'Dal Makhni', \n",
        "         'Butter Chicken']\n",
        "available = {food: NUM_ITEMS for food in foods} \n",
        "run_out = {food: env.event() for food in foods}\n",
        "when_run_out = {food: None for food in foods}\n",
        "rejected_customers = {food: 0 for food in foods}\n",
        "\n",
        "Restaurant = namedtuple('Restaurant', 'staff, foods, available,'\n",
        "                        'run_out, when_run_out, rejected_customers')\n",
        "restaurant = Restaurant(staff, foods, available, run_out, when_run_out, rejected_customers)"
      ],
      "metadata": {
        "id": "VLHok0ReWK2a"
      },
      "execution_count": 21,
      "outputs": []
    },
    {
      "cell_type": "code",
      "source": [
        "## Simulates the customer ordering particular food items\n",
        "\n",
        "def customer(env, food, num_food_order, restaurant):\n",
        "    \"\"\"Customer tries to order a certain number of a particular food, \n",
        "    if that food ran out, customer leaves. If there is enough food left,\n",
        "    customer orders food.\"\"\"\n",
        "\n",
        "    with restaurant.staff.request() as customer:\n",
        "\n",
        "        # If there is not enough food left, customer leaves\n",
        "        if restaurant.available[food] < num_food_order:\n",
        "            restaurant.rejected_customers[food] +=1\n",
        "            return\n",
        "\n",
        "        # If there is enough food left, customer orders food\n",
        "        restaurant.available[food] -= num_food_order\n",
        "        # The time it takes to prepare food\n",
        "        yield env.timeout(10*num_food_order)\n",
        "\n",
        "        # If there is no food left after customer orders, trigger run out event\n",
        "        if restaurant.available[food] == 0:\n",
        "            restaurant.run_out[food].succeed()\n",
        "            restaurant.when_run_out[food] = env.now\n",
        "\n",
        "        yield env.timeout(2)"
      ],
      "metadata": {
        "id": "TDOrptDSWYoE"
      },
      "execution_count": 22,
      "outputs": []
    },
    {
      "cell_type": "code",
      "source": [
        "## Generating random food choice for customer\n",
        "\n",
        "import random\n",
        "\n",
        "def customer_arrivals(env, restaurant):\n",
        "    \"\"\"Create new customers until the simulation reaches the time limit\"\"\"\n",
        "    while True:\n",
        "        yield env.timeout(random.random()*10)\n",
        "\n",
        "        # Choose a random food choice from the menu\n",
        "        food = random.choice(restaurant.foods)\n",
        "        \n",
        "        # Number of a food choice the customer orders\n",
        "        num_food_order = random.randint(1,6)\n",
        "\n",
        "        if restaurant.available[food]:\n",
        "            env.process(customer(env, food, num_food_order, restaurant))"
      ],
      "metadata": {
        "id": "uSXyhlGJWaR8"
      },
      "execution_count": 23,
      "outputs": []
    },
    {
      "cell_type": "code",
      "source": [
        "import random \n",
        "\n",
        "RANDOM_SEED = 20\n",
        "SIM_TIME  = 240\n",
        "\n",
        "random.seed(RANDOM_SEED)\n",
        "env = simpy.Environment()\n",
        "\n",
        "# Start process and run\n",
        "env.process(customer_arrivals(env, restaurant))\n",
        "env.run(until=SIM_TIME)\n",
        "\n",
        "for food in foods:\n",
        "    if restaurant.run_out[food]:\n",
        "        print(f'The {food} ran out {round(restaurant.when_run_out[food], 2)} '\n",
        "            'minutes after the restaurant opens.')\n",
        "            \n",
        "        print(f'Number of people leaving queue when the {food} ran out is ' \n",
        "        f'{restaurant.rejected_customers[food]}.\\n')"
      ],
      "metadata": {
        "colab": {
          "base_uri": "https://localhost:8080/"
        },
        "id": "8mbAmClRWfsn",
        "outputId": "a0c8b6f0-52b7-445a-d7ea-9a69ee21000f"
      },
      "execution_count": 24,
      "outputs": [
        {
          "output_type": "stream",
          "name": "stdout",
          "text": [
            "The Pizza ran out 147.97 minutes after the restaurant opens.\n",
            "Number of people leaving queue when the Pizza ran out is 8.\n",
            "\n",
            "The Burger ran out 162.39 minutes after the restaurant opens.\n",
            "Number of people leaving queue when the Burger ran out is 4.\n",
            "\n",
            "The Dal Makhni ran out 187.1 minutes after the restaurant opens.\n",
            "Number of people leaving queue when the Dal Makhni ran out is 2.\n",
            "\n",
            "The Butter Chicken ran out 203.78 minutes after the restaurant opens.\n",
            "Number of people leaving queue when the Butter Chicken ran out is 8.\n",
            "\n"
          ]
        }
      ]
    }
  ]
}